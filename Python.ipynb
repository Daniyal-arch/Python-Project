{
  "nbformat": 4,
  "nbformat_minor": 0,
  "metadata": {
    "colab": {
      "provenance": [],
      "toc_visible": true,
      "authorship_tag": "ABX9TyM7/hOxU4M0Z7ATFbPIim3w",
      "include_colab_link": true
    },
    "kernelspec": {
      "name": "python3",
      "display_name": "Python 3"
    },
    "language_info": {
      "name": "python"
    }
  },
  "cells": [
    {
      "cell_type": "markdown",
      "metadata": {
        "id": "view-in-github",
        "colab_type": "text"
      },
      "source": [
        "<a href=\"https://colab.research.google.com/github/Daniyal-arch/Python-Project/blob/main/Python.ipynb\" target=\"_parent\"><img src=\"https://colab.research.google.com/assets/colab-badge.svg\" alt=\"Open In Colab\"/></a>"
      ]
    },
    {
      "cell_type": "code",
      "source": [
        "import yfinance as yf\n",
        "import pandas as pd\n",
        "import requests\n",
        "from bs4 import BeautifulSoup\n",
        "\n",
        "\n",
        "# Tesla stock data\n",
        "Tesla = yf.Ticker(\"TSLA\")\n",
        "Tesla_data = Tesla.history(period=\"max\")\n",
        "Tesla_data.to_csv(\"Tesla_data.csv\")\n",
        "# Tesla revenue data\n",
        "url_tesla = \"https://cf-courses-data.s3.us.cloud-object-storage.appdomain.cloud/IBMDeveloperSkillsNetwork-PY0220EN-SkillsNetwork/labs/project/revenue.htm\"\n",
        "html_data_tesla = requests.get(url_tesla).text\n",
        "soup_tesla = BeautifulSoup(html_data_tesla, \"html5lib\")\n",
        "\n",
        "tesla_revenue = []\n",
        "table_tesla = soup_tesla.find_all(\"table\")[1]  # Assuming the table with revenue data is the second table\n",
        "for row in table_tesla.find_all(\"tr\")[1:]:\n",
        "    cols = row.find_all(\"td\")\n",
        "    date = cols[0].text.strip()\n",
        "    revenue = cols[1].text.strip().replace(\",\", \"\").replace(\"$\", \"\")\n",
        "    tesla_revenue.append([date, revenue])\n",
        "tesla_revenue_df = pd.DataFrame(tesla_revenue, columns=[\"Date\", \"Revenue\"])\n",
        "tesla_revenue_df[\"Revenue\"] = pd.to_numeric(tesla_revenue_df[\"Revenue\"])\n",
        "tesla_revenue_df[\"Date\"] = pd.to_datetime(tesla_revenue_df[\"Date\"])\n",
        "print(Tesla_data.tail())\n"
      ],
      "metadata": {
        "colab": {
          "base_uri": "https://localhost:8080/"
        },
        "collapsed": true,
        "id": "oUCX8U9yGa0Y",
        "outputId": "9b568dc0-3c6a-4c5d-da98-aa7b80519ba1"
      },
      "execution_count": 9,
      "outputs": [
        {
          "output_type": "stream",
          "name": "stdout",
          "text": [
            "                                 Open        High         Low       Close  \\\n",
            "Date                                                                        \n",
            "2024-06-28 00:00:00-04:00  199.550003  203.199997  195.259995  197.880005   \n",
            "2024-07-01 00:00:00-04:00  201.020004  213.229996  200.850006  209.860001   \n",
            "2024-07-02 00:00:00-04:00  218.889999  231.300003  218.059998  231.259995   \n",
            "2024-07-03 00:00:00-04:00  234.559998  248.350006  234.250000  246.389999   \n",
            "2024-07-05 00:00:00-04:00  249.809998  252.369995  242.460007  251.520004   \n",
            "\n",
            "                              Volume  Dividends  Stock Splits  \n",
            "Date                                                           \n",
            "2024-06-28 00:00:00-04:00   95438100        0.0           0.0  \n",
            "2024-07-01 00:00:00-04:00  135691400        0.0           0.0  \n",
            "2024-07-02 00:00:00-04:00  205047900        0.0           0.0  \n",
            "2024-07-03 00:00:00-04:00  166561500        0.0           0.0  \n",
            "2024-07-05 00:00:00-04:00  154170000        0.0           0.0  \n"
          ]
        }
      ]
    },
    {
      "cell_type": "code",
      "source": [
        "# GameStop stock data\n",
        "GameStop = yf.Ticker(\"GME\")\n",
        "GameStop_data = GameStop.history(period=\"max\")\n",
        "GameStop_data.to_csv(\"GameStop_data.csv\")\n",
        "\n",
        "\n",
        "# GameStop revenue data\n",
        "url_gamestop = \"https://cf-courses-data.s3.us.cloud-object-storage.appdomain.cloud/IBMDeveloperSkillsNetwork-PY0220EN-SkillsNetwork/labs/project/revenue.htm\"\n",
        "html_data_gamestop = requests.get(url_gamestop).text\n",
        "soup_gamestop = BeautifulSoup(html_data_gamestop, \"html5lib\")\n",
        "\n",
        "gamestop_revenue = []\n",
        "table_gamestop = soup_gamestop.find_all(\"table\")[1]  # Assuming the table with revenue data is the second table\n",
        "for row in table_gamestop.find_all(\"tr\")[1:]:\n",
        "    cols = row.find_all(\"td\")\n",
        "    date = cols[0].text.strip()\n",
        "    revenue = cols[1].text.strip().replace(\",\", \"\").replace(\"$\", \"\")\n",
        "    gamestop_revenue.append([date, revenue])\n",
        "\n",
        "gamestop_revenue_df = pd.DataFrame(gamestop_revenue, columns=[\"Date\", \"Revenue\"])\n",
        "gamestop_revenue_df[\"Revenue\"] = pd.to_numeric(gamestop_revenue_df[\"Revenue\"])\n",
        "gamestop_revenue_df[\"Date\"] = pd.to_datetime(gamestop_revenue_df[\"Date\"])\n",
        "print(GameStop_data.head())\n"
      ],
      "metadata": {
        "colab": {
          "base_uri": "https://localhost:8080/"
        },
        "id": "l62A5LK3JkaC",
        "outputId": "1fa6980b-6692-4ab1-be6a-51112342aa53"
      },
      "execution_count": 14,
      "outputs": [
        {
          "output_type": "stream",
          "name": "stdout",
          "text": [
            "                               Open      High       Low     Close    Volume  \\\n",
            "Date                                                                          \n",
            "2002-02-13 00:00:00-05:00  1.620128  1.693349  1.603295  1.691666  76216000   \n",
            "2002-02-14 00:00:00-05:00  1.712707  1.716074  1.670626  1.683250  11021600   \n",
            "2002-02-15 00:00:00-05:00  1.683250  1.687458  1.658001  1.674834   8389600   \n",
            "2002-02-19 00:00:00-05:00  1.666418  1.666418  1.578047  1.607504   7410400   \n",
            "2002-02-20 00:00:00-05:00  1.615920  1.662210  1.603296  1.662210   6892800   \n",
            "\n",
            "                           Dividends  Stock Splits  \n",
            "Date                                                \n",
            "2002-02-13 00:00:00-05:00        0.0           0.0  \n",
            "2002-02-14 00:00:00-05:00        0.0           0.0  \n",
            "2002-02-15 00:00:00-05:00        0.0           0.0  \n",
            "2002-02-19 00:00:00-05:00        0.0           0.0  \n",
            "2002-02-20 00:00:00-05:00        0.0           0.0  \n"
          ]
        }
      ]
    },
    {
      "cell_type": "code",
      "source": [
        "!pip install dash\n",
        "!pip install dash-bootstrap-components\n",
        "!pip install plotly\n",
        "\n",
        "import pandas as pd\n",
        "import dash\n",
        "from dash import dcc, html\n",
        "import plotly.express as px\n",
        "\n",
        "# Create the Dash app\n",
        "app = dash.Dash(__name__)\n",
        "\n",
        "# Tesla stock data plot\n",
        "tesla_fig = px.line(Tesla_data, x=Tesla_data.index, y='Close', title='Tesla Stock Prices')\n",
        "\n",
        "# Tesla revenue data plot\n",
        "tesla_revenue_fig = px.line(tesla_revenue_df, x='Date', y='Revenue', title='Tesla Revenue')\n",
        "\n",
        "# Define the layout\n",
        "app.layout = html.Div(children=[\n",
        "    html.H1(children='Tesla Dashboard'),\n",
        "\n",
        "    dcc.Graph(\n",
        "        id='tesla-stock-graph',\n",
        "        figure=tesla_fig\n",
        "    ),\n",
        "\n",
        "    dcc.Graph(\n",
        "        id='tesla-revenue-graph',\n",
        "        figure=tesla_revenue_fig\n",
        "    )\n",
        "])\n",
        "\n",
        "if __name__ == '__main__':\n",
        "    app.run_server(debug=True)\n"
      ],
      "metadata": {
        "collapsed": true,
        "id": "if4EtPnzG9U2"
      },
      "execution_count": null,
      "outputs": []
    },
    {
      "cell_type": "markdown",
      "source": [],
      "metadata": {
        "id": "9K1875KFHy9J"
      }
    },
    {
      "cell_type": "code",
      "source": [
        "import dash\n",
        "from dash import dcc, html\n",
        "import plotly.express as px\n",
        "\n",
        "# Create the Dash app\n",
        "app = dash.Dash(__name__)\n",
        "\n",
        "# GameStop stock data plot\n",
        "gamestop_fig = px.line(GameStop_data, x=GameStop_data.index, y='Close', title='GameStop Stock Prices')\n",
        "\n",
        "# GameStop revenue data plot\n",
        "gamestop_revenue_fig = px.line(gamestop_revenue_df, x='Date', y='Revenue', title='GameStop Revenue')\n",
        "\n",
        "# Define the layout\n",
        "app.layout = html.Div(children=[\n",
        "    html.H1(children='GameStop Dashboard'),\n",
        "\n",
        "    dcc.Graph(\n",
        "        id='gamestop-stock-graph',\n",
        "        figure=gamestop_fig\n",
        "    ),\n",
        "\n",
        "    dcc.Graph(\n",
        "        id='gamestop-revenue-graph',\n",
        "        figure=gamestop_revenue_fig\n",
        "    )\n",
        "])\n",
        "\n",
        "if __name__ == '__main__':\n",
        "    app.run_server(debug=True)\n"
      ],
      "metadata": {
        "colab": {
          "base_uri": "https://localhost:8080/",
          "height": 671
        },
        "id": "jeRfpW9aHzpc",
        "outputId": "e0f3baae-dbe2-43cb-af02-9fcf8a9f7c73"
      },
      "execution_count": 13,
      "outputs": [
        {
          "output_type": "display_data",
          "data": {
            "text/plain": [
              "<IPython.core.display.Javascript object>"
            ],
            "application/javascript": [
              "(async (port, path, width, height, cache, element) => {\n",
              "    if (!google.colab.kernel.accessAllowed && !cache) {\n",
              "      return;\n",
              "    }\n",
              "    element.appendChild(document.createTextNode(''));\n",
              "    const url = await google.colab.kernel.proxyPort(port, {cache});\n",
              "    const iframe = document.createElement('iframe');\n",
              "    iframe.src = new URL(path, url).toString();\n",
              "    iframe.height = height;\n",
              "    iframe.width = width;\n",
              "    iframe.style.border = 0;\n",
              "    iframe.allow = [\n",
              "        'accelerometer',\n",
              "        'autoplay',\n",
              "        'camera',\n",
              "        'clipboard-read',\n",
              "        'clipboard-write',\n",
              "        'gyroscope',\n",
              "        'magnetometer',\n",
              "        'microphone',\n",
              "        'serial',\n",
              "        'usb',\n",
              "        'xr-spatial-tracking',\n",
              "    ].join('; ');\n",
              "    element.appendChild(iframe);\n",
              "  })(8050, \"/\", \"100%\", 650, false, window.element)"
            ]
          },
          "metadata": {}
        }
      ]
    }
  ]
}